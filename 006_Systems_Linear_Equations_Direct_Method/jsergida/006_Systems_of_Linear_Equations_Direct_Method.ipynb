{
 "cells": [
  {
   "cell_type": "markdown",
   "id": "578a728f-4311-482b-97c3-93122b839ec2",
   "metadata": {},
   "source": [
    "- **Name:** John Paul Sergida\n",
    "- **Term:** AY 2024-2025"
   ]
  },
  {
   "cell_type": "markdown",
   "id": "d19e49ee",
   "metadata": {},
   "source": [
    "# Problem Set 006: Gaussian Elimination and LU Decomposition\n",
    "This notebook demonstrates two direct methods for solving systems of linear equations:\n",
    "- **Gaussian Elimination**\n",
    "- **LU Decomposition**"
   ]
  },
  {
   "cell_type": "code",
   "execution_count": 9,
   "id": "cd891a85-adaf-417e-a051-95682d872417",
   "metadata": {},
   "outputs": [
    {
     "name": "stdout",
     "output_type": "stream",
     "text": [
      "Collecting matplotlib\n",
      "  Downloading matplotlib-3.10.1-cp311-cp311-win_amd64.whl.metadata (11 kB)\n",
      "Collecting contourpy>=1.0.1 (from matplotlib)\n",
      "  Downloading contourpy-1.3.1-cp311-cp311-win_amd64.whl.metadata (5.4 kB)\n",
      "Collecting cycler>=0.10 (from matplotlib)\n",
      "  Using cached cycler-0.12.1-py3-none-any.whl.metadata (3.8 kB)\n",
      "Collecting fonttools>=4.22.0 (from matplotlib)\n",
      "  Downloading fonttools-4.56.0-cp311-cp311-win_amd64.whl.metadata (103 kB)\n",
      "Collecting kiwisolver>=1.3.1 (from matplotlib)\n",
      "  Downloading kiwisolver-1.4.8-cp311-cp311-win_amd64.whl.metadata (6.3 kB)\n",
      "Requirement already satisfied: numpy>=1.23 in c:\\users\\vserg\\anaconda3\\envs\\numerical-methods\\lib\\site-packages (from matplotlib) (2.2.3)\n",
      "Requirement already satisfied: packaging>=20.0 in c:\\users\\vserg\\anaconda3\\envs\\numerical-methods\\lib\\site-packages (from matplotlib) (24.2)\n",
      "Collecting pillow>=8 (from matplotlib)\n",
      "  Downloading pillow-11.1.0-cp311-cp311-win_amd64.whl.metadata (9.3 kB)\n",
      "Collecting pyparsing>=2.3.1 (from matplotlib)\n",
      "  Using cached pyparsing-3.2.1-py3-none-any.whl.metadata (5.0 kB)\n",
      "Requirement already satisfied: python-dateutil>=2.7 in c:\\users\\vserg\\anaconda3\\envs\\numerical-methods\\lib\\site-packages (from matplotlib) (2.9.0.post0)\n",
      "Requirement already satisfied: six>=1.5 in c:\\users\\vserg\\anaconda3\\envs\\numerical-methods\\lib\\site-packages (from python-dateutil>=2.7->matplotlib) (1.16.0)\n",
      "Downloading matplotlib-3.10.1-cp311-cp311-win_amd64.whl (8.1 MB)\n",
      "   ---------------------------------------- 0.0/8.1 MB ? eta -:--:--\n",
      "   ---------------------------------------- 0.0/8.1 MB ? eta -:--:--\n",
      "   ---------------------------------------- 0.0/8.1 MB ? eta -:--:--\n",
      "   - -------------------------------------- 0.3/8.1 MB ? eta -:--:--\n",
      "   - -------------------------------------- 0.3/8.1 MB ? eta -:--:--\n",
      "   - -------------------------------------- 0.3/8.1 MB ? eta -:--:--\n",
      "   -- ------------------------------------- 0.5/8.1 MB 381.0 kB/s eta 0:00:20\n",
      "   -- ------------------------------------- 0.5/8.1 MB 381.0 kB/s eta 0:00:20\n",
      "   -- ------------------------------------- 0.5/8.1 MB 381.0 kB/s eta 0:00:20\n",
      "   -- ------------------------------------- 0.5/8.1 MB 381.0 kB/s eta 0:00:20\n",
      "   --- ------------------------------------ 0.8/8.1 MB 385.5 kB/s eta 0:00:19\n",
      "   --- ------------------------------------ 0.8/8.1 MB 385.5 kB/s eta 0:00:19\n",
      "   --- ------------------------------------ 0.8/8.1 MB 385.5 kB/s eta 0:00:19\n",
      "   ----- ---------------------------------- 1.0/8.1 MB 381.2 kB/s eta 0:00:19\n",
      "   ----- ---------------------------------- 1.0/8.1 MB 381.2 kB/s eta 0:00:19\n",
      "   ----- ---------------------------------- 1.0/8.1 MB 381.2 kB/s eta 0:00:19\n",
      "   ------ --------------------------------- 1.3/8.1 MB 387.8 kB/s eta 0:00:18\n",
      "   ------ --------------------------------- 1.3/8.1 MB 387.8 kB/s eta 0:00:18\n",
      "   ------- -------------------------------- 1.6/8.1 MB 419.4 kB/s eta 0:00:16\n",
      "   ------- -------------------------------- 1.6/8.1 MB 419.4 kB/s eta 0:00:16\n",
      "   --------- ------------------------------ 1.8/8.1 MB 437.6 kB/s eta 0:00:15\n",
      "   --------- ------------------------------ 1.8/8.1 MB 437.6 kB/s eta 0:00:15\n",
      "   ---------- ----------------------------- 2.1/8.1 MB 453.4 kB/s eta 0:00:14\n",
      "   ---------- ----------------------------- 2.1/8.1 MB 453.4 kB/s eta 0:00:14\n",
      "   ----------- ---------------------------- 2.4/8.1 MB 472.5 kB/s eta 0:00:13\n",
      "   ----------- ---------------------------- 2.4/8.1 MB 472.5 kB/s eta 0:00:13\n",
      "   ----------- ---------------------------- 2.4/8.1 MB 472.5 kB/s eta 0:00:13\n",
      "   ------------- -------------------------- 2.6/8.1 MB 470.4 kB/s eta 0:00:12\n",
      "   ------------- -------------------------- 2.6/8.1 MB 470.4 kB/s eta 0:00:12\n",
      "   ------------- -------------------------- 2.6/8.1 MB 470.4 kB/s eta 0:00:12\n",
      "   -------------- ------------------------- 2.9/8.1 MB 462.2 kB/s eta 0:00:12\n",
      "   -------------- ------------------------- 2.9/8.1 MB 462.2 kB/s eta 0:00:12\n",
      "   -------------- ------------------------- 2.9/8.1 MB 462.2 kB/s eta 0:00:12\n",
      "   --------------- ------------------------ 3.1/8.1 MB 459.0 kB/s eta 0:00:11\n",
      "   --------------- ------------------------ 3.1/8.1 MB 459.0 kB/s eta 0:00:11\n",
      "   ---------------- ----------------------- 3.4/8.1 MB 462.8 kB/s eta 0:00:11\n",
      "   ---------------- ----------------------- 3.4/8.1 MB 462.8 kB/s eta 0:00:11\n",
      "   ------------------ --------------------- 3.7/8.1 MB 467.0 kB/s eta 0:00:10\n",
      "   ------------------ --------------------- 3.7/8.1 MB 467.0 kB/s eta 0:00:10\n",
      "   ------------------ --------------------- 3.7/8.1 MB 467.0 kB/s eta 0:00:10\n",
      "   ------------------- -------------------- 3.9/8.1 MB 468.8 kB/s eta 0:00:09\n",
      "   ------------------- -------------------- 3.9/8.1 MB 468.8 kB/s eta 0:00:09\n",
      "   -------------------- ------------------- 4.2/8.1 MB 469.5 kB/s eta 0:00:09\n",
      "   -------------------- ------------------- 4.2/8.1 MB 469.5 kB/s eta 0:00:09\n",
      "   ---------------------- ----------------- 4.5/8.1 MB 477.6 kB/s eta 0:00:08\n",
      "   ---------------------- ----------------- 4.5/8.1 MB 477.6 kB/s eta 0:00:08\n",
      "   ----------------------- ---------------- 4.7/8.1 MB 485.9 kB/s eta 0:00:07\n",
      "   ----------------------- ---------------- 4.7/8.1 MB 485.9 kB/s eta 0:00:07\n",
      "   ------------------------ --------------- 5.0/8.1 MB 490.2 kB/s eta 0:00:07\n",
      "   ------------------------ --------------- 5.0/8.1 MB 490.2 kB/s eta 0:00:07\n",
      "   -------------------------- ------------- 5.2/8.1 MB 496.5 kB/s eta 0:00:06\n",
      "   -------------------------- ------------- 5.2/8.1 MB 496.5 kB/s eta 0:00:06\n",
      "   --------------------------- ------------ 5.5/8.1 MB 498.6 kB/s eta 0:00:06\n",
      "   --------------------------- ------------ 5.5/8.1 MB 498.6 kB/s eta 0:00:06\n",
      "   --------------------------- ------------ 5.5/8.1 MB 498.6 kB/s eta 0:00:06\n",
      "   ---------------------------- ----------- 5.8/8.1 MB 499.7 kB/s eta 0:00:05\n",
      "   ---------------------------- ----------- 5.8/8.1 MB 499.7 kB/s eta 0:00:05\n",
      "   ----------------------------- ---------- 6.0/8.1 MB 500.1 kB/s eta 0:00:05\n",
      "   ----------------------------- ---------- 6.0/8.1 MB 500.1 kB/s eta 0:00:05\n",
      "   ------------------------------- -------- 6.3/8.1 MB 506.4 kB/s eta 0:00:04\n",
      "   ------------------------------- -------- 6.3/8.1 MB 506.4 kB/s eta 0:00:04\n",
      "   -------------------------------- ------- 6.6/8.1 MB 510.3 kB/s eta 0:00:03\n",
      "   -------------------------------- ------- 6.6/8.1 MB 510.3 kB/s eta 0:00:03\n",
      "   --------------------------------- ------ 6.8/8.1 MB 515.3 kB/s eta 0:00:03\n",
      "   --------------------------------- ------ 6.8/8.1 MB 515.3 kB/s eta 0:00:03\n",
      "   ----------------------------------- ---- 7.1/8.1 MB 515.0 kB/s eta 0:00:02\n",
      "   ------------------------------------ --- 7.3/8.1 MB 523.7 kB/s eta 0:00:02\n",
      "   ------------------------------------ --- 7.3/8.1 MB 523.7 kB/s eta 0:00:02\n",
      "   ------------------------------------- -- 7.6/8.1 MB 532.6 kB/s eta 0:00:01\n",
      "   ---------------------------------------  7.9/8.1 MB 538.8 kB/s eta 0:00:01\n",
      "   ---------------------------------------  7.9/8.1 MB 538.8 kB/s eta 0:00:01\n",
      "   ---------------------------------------- 8.1/8.1 MB 541.9 kB/s eta 0:00:00\n",
      "Downloading contourpy-1.3.1-cp311-cp311-win_amd64.whl (219 kB)\n",
      "Using cached cycler-0.12.1-py3-none-any.whl (8.3 kB)\n",
      "Downloading fonttools-4.56.0-cp311-cp311-win_amd64.whl (2.2 MB)\n",
      "   ---------------------------------------- 0.0/2.2 MB ? eta -:--:--\n",
      "   ---------------------------------------- 0.0/2.2 MB ? eta -:--:--\n",
      "   ---------------------------------------- 0.0/2.2 MB ? eta -:--:--\n",
      "   ---- ----------------------------------- 0.3/2.2 MB ? eta -:--:--\n",
      "   ---- ----------------------------------- 0.3/2.2 MB ? eta -:--:--\n",
      "   --------- ------------------------------ 0.5/2.2 MB 558.9 kB/s eta 0:00:03\n",
      "   --------- ------------------------------ 0.5/2.2 MB 558.9 kB/s eta 0:00:03\n",
      "   -------------- ------------------------- 0.8/2.2 MB 699.0 kB/s eta 0:00:03\n",
      "   ------------------- -------------------- 1.0/2.2 MB 762.8 kB/s eta 0:00:02\n",
      "   ----------------------- ---------------- 1.3/2.2 MB 849.7 kB/s eta 0:00:02\n",
      "   ---------------------------- ----------- 1.6/2.2 MB 902.1 kB/s eta 0:00:01\n",
      "   --------------------------------- ------ 1.8/2.2 MB 932.3 kB/s eta 0:00:01\n",
      "   ---------------------------------------- 2.2/2.2 MB 954.6 kB/s eta 0:00:00\n",
      "Downloading kiwisolver-1.4.8-cp311-cp311-win_amd64.whl (71 kB)\n",
      "Downloading pillow-11.1.0-cp311-cp311-win_amd64.whl (2.6 MB)\n",
      "   ---------------------------------------- 0.0/2.6 MB ? eta -:--:--\n",
      "   --- ------------------------------------ 0.3/2.6 MB ? eta -:--:--\n",
      "   --- ------------------------------------ 0.3/2.6 MB ? eta -:--:--\n",
      "   ----------- ---------------------------- 0.8/2.6 MB 1.3 MB/s eta 0:00:02\n",
      "   --------------- ------------------------ 1.0/2.6 MB 1.2 MB/s eta 0:00:02\n",
      "   ------------------- -------------------- 1.3/2.6 MB 1.3 MB/s eta 0:00:02\n",
      "   ----------------------- ---------------- 1.6/2.6 MB 1.3 MB/s eta 0:00:01\n",
      "   --------------------------- ------------ 1.8/2.6 MB 1.2 MB/s eta 0:00:01\n",
      "   ------------------------------- -------- 2.1/2.6 MB 1.2 MB/s eta 0:00:01\n",
      "   ----------------------------------- ---- 2.4/2.6 MB 1.2 MB/s eta 0:00:01\n",
      "   ----------------------------------- ---- 2.4/2.6 MB 1.2 MB/s eta 0:00:01\n",
      "   ---------------------------------------- 2.6/2.6 MB 1.2 MB/s eta 0:00:00\n",
      "Using cached pyparsing-3.2.1-py3-none-any.whl (107 kB)\n",
      "Installing collected packages: pyparsing, pillow, kiwisolver, fonttools, cycler, contourpy, matplotlib\n",
      "Successfully installed contourpy-1.3.1 cycler-0.12.1 fonttools-4.56.0 kiwisolver-1.4.8 matplotlib-3.10.1 pillow-11.1.0 pyparsing-3.2.1\n"
     ]
    }
   ],
   "source": [
    "!pip install matplotlib"
   ]
  },
  {
   "cell_type": "code",
   "execution_count": 11,
   "id": "b5277e3c",
   "metadata": {},
   "outputs": [],
   "source": [
    "import numpy as np\n",
    "import pandas as pd\n",
    "import matplotlib.pyplot as plt\n",
    "\n",
    "# Define the coefficient matrix A and right-hand side vector b\n",
    "A = np.array([[3, 0, 1], [6, 1, 1], [-3, 1, 0]], dtype=float)\n",
    "b = np.array([2, 2, 6], dtype=float)"
   ]
  },
  {
   "cell_type": "markdown",
   "id": "dab0102a",
   "metadata": {},
   "source": [
    "### Gaussian Elimination\n",
    "Gaussian elimination consists of two steps:\n",
    "1. **Forward elimination** to convert the system into an upper triangular form.\n",
    "2. **Back substitution** to solve for the unknown variables."
   ]
  },
  {
   "cell_type": "code",
   "execution_count": 12,
   "id": "c7bdb1ca",
   "metadata": {},
   "outputs": [
    {
     "name": "stdout",
     "output_type": "stream",
     "text": [
      "Gaussian Elimination:\n",
      "Solution: [-1.  3.  5.]\n"
     ]
    }
   ],
   "source": [
    "print(\"Gaussian Elimination:\")\n",
    "A_elim = A.copy()\n",
    "b_elim = b.copy()\n",
    "n = len(b)\n",
    "\n",
    "# Forward Elimination\n",
    "for i in range(n):\n",
    "    for j in range(i+1, n):\n",
    "        factor = A_elim[j, i] / A_elim[i, i]\n",
    "        A_elim[j, i:] -= factor * A_elim[i, i:]\n",
    "        b_elim[j] -= factor * b_elim[i]\n",
    "\n",
    "# Back Substitution\n",
    "x = np.zeros(n)\n",
    "for i in range(n-1, -1, -1):\n",
    "    x[i] = (b_elim[i] - np.dot(A_elim[i, i+1:], x[i+1:])) / A_elim[i, i]\n",
    "print(\"Solution:\", x)"
   ]
  },
  {
   "cell_type": "markdown",
   "id": "3b55d7fd",
   "metadata": {},
   "source": [
    "### LU Decomposition\n",
    "LU decomposition factorizes the matrix A into:\n",
    "- **L:** Lower triangular matrix\n",
    "- **U:** Upper triangular matrix\n",
    "\n",
    "The system is then solved in two steps:\n",
    "1. **Forward substitution** to solve \\( Ly = b \\)\n",
    "2. **Back substitution** to solve \\( Ux = y \\)"
   ]
  },
  {
   "cell_type": "code",
   "execution_count": 13,
   "id": "af238992",
   "metadata": {},
   "outputs": [],
   "source": [
    "# Manual LU Decomposition\n",
    "n = len(A)\n",
    "L = np.zeros((n, n))\n",
    "U = np.zeros((n, n))\n",
    "\n",
    "for i in range(n):\n",
    "    # Upper triangular matrix U\n",
    "    for j in range(i, n):\n",
    "        U[i, j] = A[i, j] - np.dot(L[i, :i], U[:i, j])\n",
    "\n",
    "    # Lower triangular matrix L\n",
    "    L[i, i] = 1  # Diagonal elements are 1\n",
    "    for j in range(i + 1, n):\n",
    "        L[j, i] = (A[j, i] - np.dot(L[j, :i], U[:i, i])) / U[i, i]\n",
    "\n",
    "# Solving Ly = b using forward substitution\n",
    "y = np.zeros(n)\n",
    "for i in range(n):\n",
    "    y[i] = (b[i] - np.dot(L[i, :i], y[:i])) / L[i, i]\n",
    "\n",
    "# Solving Ux = y using backward substitution\n",
    "x = np.zeros(n)\n",
    "for i in range(n - 1, -1, -1):\n",
    "    x[i] = (y[i] - np.dot(U[i, i + 1:], x[i + 1:])) / U[i, i]"
   ]
  },
  {
   "cell_type": "code",
   "execution_count": 14,
   "id": "8caa3d56-c873-42c4-b55c-5355b4f7f1dd",
   "metadata": {},
   "outputs": [
    {
     "data": {
      "text/markdown": [
       "# LU Decomposition"
      ],
      "text/plain": [
       "<IPython.core.display.Markdown object>"
      ]
     },
     "metadata": {},
     "output_type": "display_data"
    },
    {
     "data": {
      "text/markdown": [
       "## Given Matrix A and Vector b"
      ],
      "text/plain": [
       "<IPython.core.display.Markdown object>"
      ]
     },
     "metadata": {},
     "output_type": "display_data"
    },
    {
     "data": {
      "text/markdown": [
       "### Matrix A\n",
       "|    |   0 |   1 |   2 |\n",
       "|---:|----:|----:|----:|\n",
       "|  0 |   3 |   0 |   1 |\n",
       "|  1 |   6 |   1 |   1 |\n",
       "|  2 |  -3 |   1 |   0 |"
      ],
      "text/plain": [
       "<IPython.core.display.Markdown object>"
      ]
     },
     "metadata": {},
     "output_type": "display_data"
    },
    {
     "data": {
      "text/markdown": [
       "### Vector b\n",
       "|    |   0 |\n",
       "|---:|----:|\n",
       "|  0 |   2 |\n",
       "|  1 |   2 |\n",
       "|  2 |   6 |"
      ],
      "text/plain": [
       "<IPython.core.display.Markdown object>"
      ]
     },
     "metadata": {},
     "output_type": "display_data"
    },
    {
     "data": {
      "text/markdown": [
       "## Step 1: LU Decomposition"
      ],
      "text/plain": [
       "<IPython.core.display.Markdown object>"
      ]
     },
     "metadata": {},
     "output_type": "display_data"
    },
    {
     "data": {
      "text/markdown": [
       "### Lower Triangular Matrix L\n",
       "|    |   0 |   1 |   2 |\n",
       "|---:|----:|----:|----:|\n",
       "|  0 |   1 |   0 |   0 |\n",
       "|  1 |   2 |   1 |   0 |\n",
       "|  2 |  -1 |   1 |   1 |"
      ],
      "text/plain": [
       "<IPython.core.display.Markdown object>"
      ]
     },
     "metadata": {},
     "output_type": "display_data"
    },
    {
     "data": {
      "text/markdown": [
       "### Upper Triangular Matrix U\n",
       "|    |   0 |   1 |   2 |\n",
       "|---:|----:|----:|----:|\n",
       "|  0 |   3 |   0 |   1 |\n",
       "|  1 |   0 |   1 |  -1 |\n",
       "|  2 |   0 |   0 |   2 |"
      ],
      "text/plain": [
       "<IPython.core.display.Markdown object>"
      ]
     },
     "metadata": {},
     "output_type": "display_data"
    },
    {
     "data": {
      "text/markdown": [
       "## Step 2: Forward Substitution (Solving Ly = b)"
      ],
      "text/plain": [
       "<IPython.core.display.Markdown object>"
      ]
     },
     "metadata": {},
     "output_type": "display_data"
    },
    {
     "data": {
      "text/markdown": [
       "### Intermediate Solution Vector y\n",
       "|    |   0 |\n",
       "|---:|----:|\n",
       "|  0 |   2 |\n",
       "|  1 |  -2 |\n",
       "|  2 |  10 |"
      ],
      "text/plain": [
       "<IPython.core.display.Markdown object>"
      ]
     },
     "metadata": {},
     "output_type": "display_data"
    },
    {
     "data": {
      "text/markdown": [
       "## Step 3: Backward Substitution (Solving Ux = y)"
      ],
      "text/plain": [
       "<IPython.core.display.Markdown object>"
      ]
     },
     "metadata": {},
     "output_type": "display_data"
    },
    {
     "data": {
      "text/markdown": [
       "### Final Solution Vector x\n",
       "|    |   0 |\n",
       "|---:|----:|\n",
       "|  0 |  -1 |\n",
       "|  1 |   3 |\n",
       "|  2 |   5 |"
      ],
      "text/plain": [
       "<IPython.core.display.Markdown object>"
      ]
     },
     "metadata": {},
     "output_type": "display_data"
    }
   ],
   "source": [
    "# Display results in Markdown\n",
    "from IPython.display import display, Markdown\n",
    "\n",
    "def display_matrix(name, matrix):\n",
    "    df = pd.DataFrame(matrix)\n",
    "    display(Markdown(f'### {name}\\n{df.to_markdown()}'))\n",
    "\n",
    "display(Markdown(\"# LU Decomposition\"))\n",
    "display(Markdown(\"## Given Matrix A and Vector b\"))\n",
    "display_matrix(\"Matrix A\", A)\n",
    "display_matrix(\"Vector b\", b.reshape(-1,1))\n",
    "\n",
    "display(Markdown(\"## Step 1: LU Decomposition\"))\n",
    "display_matrix(\"Lower Triangular Matrix L\", L)\n",
    "display_matrix(\"Upper Triangular Matrix U\", U)\n",
    "\n",
    "display(Markdown(\"## Step 2: Forward Substitution (Solving Ly = b)\"))\n",
    "display_matrix(\"Intermediate Solution Vector y\", y.reshape(-1,1))\n",
    "\n",
    "display(Markdown(\"## Step 3: Backward Substitution (Solving Ux = y)\"))\n",
    "display_matrix(\"Final Solution Vector x\", x.reshape(-1,1))"
   ]
  }
 ],
 "metadata": {
  "kernelspec": {
   "display_name": "Python 3 (ipykernel)",
   "language": "python",
   "name": "python3"
  },
  "language_info": {
   "codemirror_mode": {
    "name": "ipython",
    "version": 3
   },
   "file_extension": ".py",
   "mimetype": "text/x-python",
   "name": "python",
   "nbconvert_exporter": "python",
   "pygments_lexer": "ipython3",
   "version": "3.11.11"
  }
 },
 "nbformat": 4,
 "nbformat_minor": 5
}
