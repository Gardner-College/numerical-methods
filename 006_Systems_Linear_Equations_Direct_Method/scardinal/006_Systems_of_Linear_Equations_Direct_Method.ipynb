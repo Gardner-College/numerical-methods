{
 "cells": [
  {
   "cell_type": "markdown",
   "id": "578a728f-4311-482b-97c3-93122b839ec2",
   "metadata": {},
   "source": [
    "- **Name:** Cardinal, Saira Mae.\n",
    "- **Term:** AY 2024-2025"
   ]
  },
  {
   "cell_type": "markdown",
   "id": "d19e49ee",
   "metadata": {},
   "source": [
    "# Problem Set 006: Gaussian Elimination and LU Decomposition\n",
    "This notebook demonstrates two direct methods for solving systems of linear equations:\n",
    "- **Gaussian Elimination**\n",
    "- **LU Decomposition**"
   ]
  },
  {
   "cell_type": "code",
   "execution_count": 1,
   "id": "b5277e3c",
   "metadata": {},
   "outputs": [],
   "source": [
    "import numpy as np\n",
    "import pandas as pd\n",
    "import matplotlib.pyplot as plt\n",
    "\n",
    "# Define the coefficient matrix A and right-hand side vector b\n",
    "A = np.array([[3, 0, 1], [6, 1, 1], [-3, 1, 0]], dtype=float)\n",
    "b = np.array([2, 2, 6], dtype=float)"
   ]
  },
  {
   "cell_type": "markdown",
   "id": "dab0102a",
   "metadata": {},
   "source": [
    "### Gaussian Elimination\n",
    "Gaussian elimination consists of two steps:\n",
    "1. **Forward elimination** to convert the system into an upper triangular form.\n",
    "2. **Back substitution** to solve for the unknown variables."
   ]
  },
  {
   "cell_type": "code",
   "execution_count": 3,
   "id": "c7bdb1ca",
   "metadata": {},
   "outputs": [
    {
     "name": "stdout",
     "output_type": "stream",
     "text": [
      "Gaussian Elimination:\n",
      "Solution: [-1.  3.  5.]\n"
     ]
    }
   ],
   "source": [
    "print(\"Gaussian Elimination:\")\n",
    "A_elim = A.copy()\n",
    "b_elim = b.copy()\n",
    "n = len(b)\n",
    "\n",
    "# Forward Elimination\n",
    "for i in range(n):\n",
    "    for j in range(i+1, n):\n",
    "        factor = A_elim[j, i] / A_elim[i, i]\n",
    "        A_elim[j, i:] -= factor * A_elim[i, i:]\n",
    "        b_elim[j] -= factor * b_elim[i]\n",
    "\n",
    "# Back Substitution\n",
    "x = np.zeros(n)\n",
    "for i in range(n-1, -1, -1):\n",
    "    x[i] = (b_elim[i] - np.dot(A_elim[i, i+1:], x[i+1:])) / A_elim[i, i]\n",
    "print(\"Solution:\", x)"
   ]
  },
  {
   "cell_type": "markdown",
   "id": "3b55d7fd",
   "metadata": {},
   "source": [
    "### LU Decomposition\n",
    "LU decomposition factorizes the matrix A into:\n",
    "- **L:** Lower triangular matrix\n",
    "- **U:** Upper triangular matrix\n",
    "\n",
    "The system is then solved in two steps:\n",
    "1. **Forward substitution** to solve \\( Ly = b \\)\n",
    "2. **Back substitution** to solve \\( Ux = y \\)"
   ]
  },
  {
   "cell_type": "code",
   "execution_count": 5,
   "id": "af238992",
   "metadata": {},
   "outputs": [],
   "source": [
    "# Manual LU Decomposition\n",
    "n = len(A)\n",
    "L = np.zeros((n, n))\n",
    "U = np.zeros((n, n))\n",
    "\n",
    "for i in range(n):\n",
    "    # Upper triangular matrix U\n",
    "    for j in range(i, n):\n",
    "        U[i, j] = A[i, j] - np.dot(L[i, :i], U[:i, j])\n",
    "\n",
    "    # Lower triangular matrix L\n",
    "    L[i, i] = 1  # Diagonal elements are 1\n",
    "    for j in range(i + 1, n):\n",
    "        L[j, i] = (A[j, i] - np.dot(L[j, :i], U[:i, i])) / U[i, i]\n",
    "\n",
    "# Solving Ly = b using forward substitution\n",
    "y = np.zeros(n)\n",
    "for i in range(n):\n",
    "    y[i] = (b[i] - np.dot(L[i, :i], y[:i])) / L[i, i]\n",
    "\n",
    "# Solving Ux = y using backward substitution\n",
    "x = np.zeros(n)\n",
    "for i in range(n - 1, -1, -1):\n",
    "    x[i] = (y[i] - np.dot(U[i, i + 1:], x[i + 1:])) / U[i, i]"
   ]
  },
  {
   "cell_type": "code",
   "execution_count": 7,
   "id": "8caa3d56-c873-42c4-b55c-5355b4f7f1dd",
   "metadata": {},
   "outputs": [
    {
     "data": {
      "text/markdown": [
       "# LU Decomposition"
      ],
      "text/plain": [
       "<IPython.core.display.Markdown object>"
      ]
     },
     "metadata": {},
     "output_type": "display_data"
    },
    {
     "data": {
      "text/markdown": [
       "## Given Matrix A and Vector b"
      ],
      "text/plain": [
       "<IPython.core.display.Markdown object>"
      ]
     },
     "metadata": {},
     "output_type": "display_data"
    },
    {
     "data": {
      "text/markdown": [
       "### Matrix A\n",
       "|    |   0 |   1 |   2 |\n",
       "|---:|----:|----:|----:|\n",
       "|  0 |   3 |   0 |   1 |\n",
       "|  1 |   6 |   1 |   1 |\n",
       "|  2 |  -3 |   1 |   0 |"
      ],
      "text/plain": [
       "<IPython.core.display.Markdown object>"
      ]
     },
     "metadata": {},
     "output_type": "display_data"
    },
    {
     "data": {
      "text/markdown": [
       "### Vector b\n",
       "|    |   0 |\n",
       "|---:|----:|\n",
       "|  0 |   2 |\n",
       "|  1 |   2 |\n",
       "|  2 |   6 |"
      ],
      "text/plain": [
       "<IPython.core.display.Markdown object>"
      ]
     },
     "metadata": {},
     "output_type": "display_data"
    },
    {
     "data": {
      "text/markdown": [
       "## Step 1: LU Decomposition"
      ],
      "text/plain": [
       "<IPython.core.display.Markdown object>"
      ]
     },
     "metadata": {},
     "output_type": "display_data"
    },
    {
     "data": {
      "text/markdown": [
       "### Lower Triangular Matrix L\n",
       "|    |   0 |   1 |   2 |\n",
       "|---:|----:|----:|----:|\n",
       "|  0 |   1 |   0 |   0 |\n",
       "|  1 |   2 |   1 |   0 |\n",
       "|  2 |  -1 |   1 |   1 |"
      ],
      "text/plain": [
       "<IPython.core.display.Markdown object>"
      ]
     },
     "metadata": {},
     "output_type": "display_data"
    },
    {
     "data": {
      "text/markdown": [
       "### Upper Triangular Matrix U\n",
       "|    |   0 |   1 |   2 |\n",
       "|---:|----:|----:|----:|\n",
       "|  0 |   3 |   0 |   1 |\n",
       "|  1 |   0 |   1 |  -1 |\n",
       "|  2 |   0 |   0 |   2 |"
      ],
      "text/plain": [
       "<IPython.core.display.Markdown object>"
      ]
     },
     "metadata": {},
     "output_type": "display_data"
    },
    {
     "data": {
      "text/markdown": [
       "## Step 2: Forward Substitution (Solving Ly = b)"
      ],
      "text/plain": [
       "<IPython.core.display.Markdown object>"
      ]
     },
     "metadata": {},
     "output_type": "display_data"
    },
    {
     "data": {
      "text/markdown": [
       "### Intermediate Solution Vector y\n",
       "|    |   0 |\n",
       "|---:|----:|\n",
       "|  0 |   2 |\n",
       "|  1 |  -2 |\n",
       "|  2 |  10 |"
      ],
      "text/plain": [
       "<IPython.core.display.Markdown object>"
      ]
     },
     "metadata": {},
     "output_type": "display_data"
    },
    {
     "data": {
      "text/markdown": [
       "## Step 3: Backward Substitution (Solving Ux = y)"
      ],
      "text/plain": [
       "<IPython.core.display.Markdown object>"
      ]
     },
     "metadata": {},
     "output_type": "display_data"
    },
    {
     "data": {
      "text/markdown": [
       "### Final Solution Vector x\n",
       "|    |   0 |\n",
       "|---:|----:|\n",
       "|  0 |  -1 |\n",
       "|  1 |   3 |\n",
       "|  2 |   5 |"
      ],
      "text/plain": [
       "<IPython.core.display.Markdown object>"
      ]
     },
     "metadata": {},
     "output_type": "display_data"
    }
   ],
   "source": [
    "# Display results in Markdown\n",
    "from IPython.display import display, Markdown\n",
    "\n",
    "def display_matrix(name, matrix):\n",
    "    df = pd.DataFrame(matrix)\n",
    "    display(Markdown(f'### {name}\\n{df.to_markdown()}'))\n",
    "\n",
    "display(Markdown(\"# LU Decomposition\"))\n",
    "display(Markdown(\"## Given Matrix A and Vector b\"))\n",
    "display_matrix(\"Matrix A\", A)\n",
    "display_matrix(\"Vector b\", b.reshape(-1,1))\n",
    "\n",
    "display(Markdown(\"## Step 1: LU Decomposition\"))\n",
    "display_matrix(\"Lower Triangular Matrix L\", L)\n",
    "display_matrix(\"Upper Triangular Matrix U\", U)\n",
    "\n",
    "display(Markdown(\"## Step 2: Forward Substitution (Solving Ly = b)\"))\n",
    "display_matrix(\"Intermediate Solution Vector y\", y.reshape(-1,1))\n",
    "\n",
    "display(Markdown(\"## Step 3: Backward Substitution (Solving Ux = y)\"))\n",
    "display_matrix(\"Final Solution Vector x\", x.reshape(-1,1))"
   ]
  }
 ],
 "metadata": {
  "kernelspec": {
   "display_name": "Python 3 (ipykernel)",
   "language": "python",
   "name": "python3"
  },
  "language_info": {
   "codemirror_mode": {
    "name": "ipython",
    "version": 3
   },
   "file_extension": ".py",
   "mimetype": "text/x-python",
   "name": "python",
   "nbconvert_exporter": "python",
   "pygments_lexer": "ipython3",
   "version": "3.12.8"
  }
 },
 "nbformat": 4,
 "nbformat_minor": 5
}
