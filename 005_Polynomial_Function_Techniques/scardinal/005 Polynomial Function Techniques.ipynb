{
 "cells": [
  {
   "cell_type": "markdown",
   "id": "7fa9e23d-ddc7-49b3-a463-065fadc273f9",
   "metadata": {},
   "source": [
    "- **Name:** Cardinal, Saira Mae A.\n",
    "- **Term:** AY 2024-2025"
   ]
  },
  {
   "cell_type": "markdown",
   "id": "74f44086",
   "metadata": {},
   "source": [
    "# Problem Set 005: Polynomial Function Techniques"
   ]
  },
  {
   "cell_type": "markdown",
   "id": "aa168505",
   "metadata": {},
   "source": [
    "## Synthetic Division\n",
    "Synthetic division is a shortcut for polynomial division when dividing by a linear factor \\( x - c \\). It reduces computational effort compared to traditional long division."
   ]
  },
  {
   "cell_type": "markdown",
   "id": "5375c937",
   "metadata": {},
   "source": [
    "### Example of Synthetic Division\n",
    "Given the polynomial $P(x) = 2x^3 - 6x^2 + 2x - 1$, divide it by $(x - 3)$."
   ]
  },
  {
   "cell_type": "code",
   "execution_count": 6,
   "id": "916853cf-1d26-4648-8b3c-10348c082070",
   "metadata": {},
   "outputs": [
    {
     "name": "stdout",
     "output_type": "stream",
     "text": [
      "Requirement already satisfied: numpy in /opt/anaconda3/envs/numerical-methods/lib/python3.12/site-packages (2.2.2)\n"
     ]
    }
   ],
   "source": [
    "!pip install numpy"
   ]
  },
  {
   "cell_type": "code",
   "execution_count": 7,
   "id": "f3fae3bf",
   "metadata": {},
   "outputs": [
    {
     "name": "stdout",
     "output_type": "stream",
     "text": [
      "Quotient coefficients: [2. 0. 2.]\n",
      "Remainder: 5\n"
     ]
    }
   ],
   "source": [
    "import numpy as np\n",
    "\n",
    "def synthetic_division(coefficients, divisor):\n",
    "    \"\"\"\n",
    "    Performs synthetic division on a given polynomial.\n",
    "    :param coefficients: List of polynomial coefficients\n",
    "    :param divisor: Value of 'c' in (x - c)\n",
    "    :return: Quotient coefficients and remainder\n",
    "    \"\"\"\n",
    "    n = len(coefficients)\n",
    "    quotient = np.zeros(n - 1)\n",
    "    remainder = coefficients[0]\n",
    "\n",
    "    for i in range(n - 1):\n",
    "        quotient[i] = remainder\n",
    "        remainder = remainder * divisor + coefficients[i + 1]\n",
    "\n",
    "    return quotient, remainder\n",
    "\n",
    "# Coefficients of P(x) = 2x^3 - 6x^2 + 2x - 1\n",
    "coefficients = [2, -6, 2, -1]\n",
    "divisor = 3\n",
    "\n",
    "quotient, remainder = synthetic_division(coefficients, divisor)\n",
    "\n",
    "print(\"Quotient coefficients:\", quotient)\n",
    "print(\"Remainder:\", remainder)\n"
   ]
  },
  {
   "attachments": {},
   "cell_type": "markdown",
   "id": "c99d24e7-a62b-4933-b4fd-23d9a4919ca3",
   "metadata": {},
   "source": [
    "#### Exercise Problem 1\n",
    "\n",
    "Divide $𝑃(𝑥)=3𝑥^2+7𝑥−20$ by $(x + 5)$"
   ]
  },
  {
   "cell_type": "code",
   "execution_count": 8,
   "id": "a26d5523-7c0a-41d2-b738-6e31140ee436",
   "metadata": {},
   "outputs": [
    {
     "name": "stdout",
     "output_type": "stream",
     "text": [
      "Quotient coefficients: [ 7. 42.]\n",
      "Remainder: 230\n"
     ]
    }
   ],
   "source": [
    "import numpy as np\n",
    "\n",
    "def synthetic_division(coefficients, divisor):\n",
    "    \"\"\"\n",
    "    Performs synthetic division on a given polynomial.\n",
    "    :param coefficients: List of polynomial coefficients\n",
    "    :param divisor: Value of 'c' in (x - c)\n",
    "    :return: Quotient coefficients and remainder\n",
    "    \"\"\"\n",
    "    n = len(coefficients1)\n",
    "    quotient = np.zeros(n - 1)\n",
    "    remainder = coefficients1[1]\n",
    "\n",
    "    for i in range(n - 1):\n",
    "        quotient[i] = remainder\n",
    "        remainder = remainder * divisor1 + coefficients1[i + 1]\n",
    "\n",
    "    return quotient, remainder\n",
    "\n",
    "# Coefficients of P(x) = 3x^2 + 7x - 20 - 1\n",
    "coefficients1 = [3, 7, 20]\n",
    "divisor1 = 5\n",
    "\n",
    "quotient, remainder = synthetic_division(coefficients1, divisor1)\n",
    "\n",
    "print(\"Quotient coefficients:\", quotient)\n",
    "print(\"Remainder:\", remainder)\n"
   ]
  },
  {
   "cell_type": "markdown",
   "id": "5a25f303-69ab-4b78-9135-7fc91af775a4",
   "metadata": {},
   "source": [
    "#### Exercise Problem 2\n",
    "\n",
    "Divide $𝑃(𝑥)=7𝑥^3+6𝑥−8$ by $(x – 4)$"
   ]
  },
  {
   "cell_type": "code",
   "execution_count": 9,
   "id": "b7dc4c28-e0e3-4884-b690-7e40ebe6b763",
   "metadata": {},
   "outputs": [
    {
     "name": "stdout",
     "output_type": "stream",
     "text": [
      "Quotient coefficients: [2. 0. 2.]\n",
      "Remainder: 5\n"
     ]
    }
   ],
   "source": [
    "import numpy as np\n",
    "\n",
    "def synthetic_division(coefficients, divisor):\n",
    "    \"\"\"\n",
    "    Performs synthetic division on a given polynomial.\n",
    "    :param coefficients: List of polynomial coefficients\n",
    "    :param divisor: Value of 'c' in (x - c)\n",
    "    :return: Quotient coefficients and remainder\n",
    "    \"\"\"\n",
    "    n = len(coefficients)\n",
    "    quotient = np.zeros(n - 1)\n",
    "    remainder = coefficients[0]\n",
    "\n",
    "    for i in range(n - 1):\n",
    "        quotient[i] = remainder\n",
    "        remainder = remainder * divisor + coefficients[i + 1]\n",
    "\n",
    "    return quotient, remainder\n",
    "\n",
    "# Coefficients of P(x) = 2x^3 - 6x^2 + 2x - 1\n",
    "coefficients = [2, -6, 2, -1]\n",
    "divisor = 3\n",
    "\n",
    "quotient, remainder = synthetic_division(coefficients, divisor)\n",
    "\n",
    "print(\"Quotient coefficients:\", quotient)\n",
    "print(\"Remainder:\", remainder)\n"
   ]
  },
  {
   "cell_type": "markdown",
   "id": "d27fb0e0-7431-41cd-9295-75e305bab7b9",
   "metadata": {},
   "source": [
    "#### Exercise Problem 3\n",
    "\n",
    "Divide $𝑃(𝑥)=3𝑥^4−5𝑥^2+6$ by $(x – 2)$"
   ]
  },
  {
   "cell_type": "code",
   "execution_count": 10,
   "id": "82771416-f60a-42bd-9b1f-dfca340f0ac0",
   "metadata": {},
   "outputs": [
    {
     "name": "stdout",
     "output_type": "stream",
     "text": [
      "Quotient coefficients: [2. 0. 2.]\n",
      "Remainder: 5\n"
     ]
    }
   ],
   "source": [
    "import numpy as np\n",
    "\n",
    "def synthetic_division(coefficients, divisor):\n",
    "    \"\"\"\n",
    "    Performs synthetic division on a given polynomial.\n",
    "    :param coefficients: List of polynomial coefficients\n",
    "    :param divisor: Value of 'c' in (x - c)\n",
    "    :return: Quotient coefficients and remainder\n",
    "    \"\"\"\n",
    "    n = len(coefficients)\n",
    "    quotient = np.zeros(n - 1)\n",
    "    remainder = coefficients[0]\n",
    "\n",
    "    for i in range(n - 1):\n",
    "        quotient[i] = remainder\n",
    "        remainder = remainder * divisor + coefficients[i + 1]\n",
    "\n",
    "    return quotient, remainder\n",
    "\n",
    "# Coefficients of P(x) = 2x^3 - 6x^2 + 2x - 1\n",
    "coefficients = [2, -6, 2, -1]\n",
    "divisor = 3\n",
    "\n",
    "quotient, remainder = synthetic_division(coefficients, divisor)\n",
    "\n",
    "print(\"Quotient coefficients:\", quotient)\n",
    "print(\"Remainder:\", remainder)\n"
   ]
  },
  {
   "cell_type": "markdown",
   "id": "fd019ff7",
   "metadata": {},
   "source": [
    "## Horner’s Scheme\n",
    "Horner's Scheme is an efficient method for evaluating a polynomial at a specific value of \\( x \\). It reduces the number of multiplications needed by expressing the polynomial in nested form."
   ]
  },
  {
   "cell_type": "markdown",
   "id": "2851ea30",
   "metadata": {},
   "source": [
    "### Example of Horner’s Scheme\n",
    "Evaluate $P(x) = 2x^3 - 6x^2 + 2x - 1$ at $(x = 3)$."
   ]
  },
  {
   "cell_type": "code",
   "execution_count": 11,
   "id": "10723669",
   "metadata": {},
   "outputs": [
    {
     "name": "stdout",
     "output_type": "stream",
     "text": [
      "P(3) = 5\n"
     ]
    }
   ],
   "source": [
    "def horner_evaluation(coefficients, x_value):\n",
    "    \"\"\"\n",
    "    Evaluates a polynomial using Horner's method.\n",
    "    :param coefficients: List of polynomial coefficients\n",
    "    :param x_value: Value of x\n",
    "    :return: Evaluated polynomial result\n",
    "    \"\"\"\n",
    "    result = coefficients[0]\n",
    "    for coef in coefficients[1:]:\n",
    "        result = result * x_value + coef\n",
    "\n",
    "    return result\n",
    "\n",
    "# Evaluate P(x) at x = 3\n",
    "x_value = 3\n",
    "result = horner_evaluation(coefficients, x_value)\n",
    "\n",
    "print(\"P(3) =\", result)\n"
   ]
  },
  {
   "cell_type": "markdown",
   "id": "c7e62be6-ad95-40e5-b05a-5a6f86ee4770",
   "metadata": {},
   "source": [
    "#### Exercise Problem 1\n",
    "\n",
    "Evaluate $𝑃(𝑥)=3𝑥^2+7𝑥−20$ at $(x=-5)$"
   ]
  },
  {
   "cell_type": "code",
   "execution_count": 12,
   "id": "4a0b34fb-711c-48dd-ab57-e5a21f8d9e50",
   "metadata": {},
   "outputs": [
    {
     "name": "stdout",
     "output_type": "stream",
     "text": [
      "P(3) = 5\n"
     ]
    }
   ],
   "source": [
    "def horner_evaluation(coefficients, x_value):\n",
    "    \"\"\"\n",
    "    Evaluates a polynomial using Horner's method.\n",
    "    :param coefficients: List of polynomial coefficients\n",
    "    :param x_value: Value of x\n",
    "    :return: Evaluated polynomial result\n",
    "    \"\"\"\n",
    "    result = coefficients[0]\n",
    "    for coef in coefficients[1:]:\n",
    "        result = result * x_value + coef\n",
    "\n",
    "    return result\n",
    "\n",
    "# Evaluate P(x) at x = 3\n",
    "x_value = 3\n",
    "result = horner_evaluation(coefficients, x_value)\n",
    "\n",
    "print(\"P(3) =\", result)\n"
   ]
  },
  {
   "cell_type": "markdown",
   "id": "72aa1a46-99c7-4206-a539-d725edb86873",
   "metadata": {},
   "source": [
    "#### Exercise Problem 2\n",
    "\n",
    "Evaluate $𝑃(𝑥)=7𝑥^3+6𝑥−8$ at $(x=4)$"
   ]
  },
  {
   "cell_type": "code",
   "execution_count": 13,
   "id": "1eca0522-fe0a-4ffc-a57e-0cfdae63c79d",
   "metadata": {},
   "outputs": [
    {
     "name": "stdout",
     "output_type": "stream",
     "text": [
      "P(3) = 5\n"
     ]
    }
   ],
   "source": [
    "def horner_evaluation(coefficients, x_value):\n",
    "    \"\"\"\n",
    "    Evaluates a polynomial using Horner's method.\n",
    "    :param coefficients: List of polynomial coefficients\n",
    "    :param x_value: Value of x\n",
    "    :return: Evaluated polynomial result\n",
    "    \"\"\"\n",
    "    result = coefficients[0]\n",
    "    for coef in coefficients[1:]:\n",
    "        result = result * x_value + coef\n",
    "\n",
    "    return result\n",
    "\n",
    "# Evaluate P(x) at x = 3\n",
    "x_value = 3\n",
    "result = horner_evaluation(coefficients, x_value)\n",
    "\n",
    "print(\"P(3) =\", result)\n"
   ]
  },
  {
   "cell_type": "markdown",
   "id": "ad4340c1-3256-4de7-a2d3-3cb341938318",
   "metadata": {},
   "source": [
    "#### Exercise Problem 3\n",
    "\n",
    "Evaluate $𝑃(𝑥)=3𝑥^4−5𝑥^2+6$ at $(x=2)$"
   ]
  },
  {
   "cell_type": "code",
   "execution_count": 14,
   "id": "c36f6300-539b-4362-9098-b15be26dedec",
   "metadata": {},
   "outputs": [
    {
     "name": "stdout",
     "output_type": "stream",
     "text": [
      "P(3) = 5\n"
     ]
    }
   ],
   "source": [
    "def horner_evaluation(coefficients, x_value):\n",
    "    \"\"\"\n",
    "    Evaluates a polynomial using Horner's method.\n",
    "    :param coefficients: List of polynomial coefficients\n",
    "    :param x_value: Value of x\n",
    "    :return: Evaluated polynomial result\n",
    "    \"\"\"\n",
    "    result = coefficients[0]\n",
    "    for coef in coefficients[1:]:\n",
    "        result = result * x_value + coef\n",
    "\n",
    "    return result\n",
    "\n",
    "# Evaluate P(x) at x = 3\n",
    "x_value = 3\n",
    "result = horner_evaluation(coefficients, x_value)\n",
    "\n",
    "print(\"P(3) =\", result)\n"
   ]
  },
  {
   "cell_type": "markdown",
   "id": "96e32de7",
   "metadata": {},
   "source": [
    "## Conclusion\n",
    "- **Synthetic Division** provides a quick way to divide a polynomial by \\( x - c \\).\n",
    "- **Horner’s Scheme** simplifies polynomial evaluation by reducing operations.\n",
    "These methods are essential for computational efficiency in numerical methods."
   ]
  }
 ],
 "metadata": {
  "kernelspec": {
   "display_name": "Python 3 (ipykernel)",
   "language": "python",
   "name": "python3"
  },
  "language_info": {
   "codemirror_mode": {
    "name": "ipython",
    "version": 3
   },
   "file_extension": ".py",
   "mimetype": "text/x-python",
   "name": "python",
   "nbconvert_exporter": "python",
   "pygments_lexer": "ipython3",
   "version": "3.12.8"
  }
 },
 "nbformat": 4,
 "nbformat_minor": 5
}
