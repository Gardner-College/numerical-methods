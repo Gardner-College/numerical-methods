{
 "cells": [
  {
   "cell_type": "markdown",
   "id": "7fa9e23d-ddc7-49b3-a463-065fadc273f9",
   "metadata": {},
   "source": [
    "- **Name:** John Paul Sergida\n",
    "- **Term:** AY 2024-2025"
   ]
  },
  {
   "cell_type": "markdown",
   "id": "74f44086",
   "metadata": {},
   "source": [
    "# Problem Set 005: Polynomial Function Techniques"
   ]
  },
  {
   "cell_type": "markdown",
   "id": "aa168505",
   "metadata": {},
   "source": [
    "## Synthetic Division\n",
    "Synthetic division is a shortcut for polynomial division when dividing by a linear factor \\( x - c \\). It reduces computational effort compared to traditional long division."
   ]
  },
  {
   "cell_type": "markdown",
   "id": "5375c937",
   "metadata": {},
   "source": [
    "### Example of Synthetic Division\n",
    "Given the polynomial $P(x) = 2x^3 - 6x^2 + 2x - 1$, divide it by $(x - 3)$."
   ]
  },
  {
   "cell_type": "code",
   "execution_count": 2,
   "id": "916853cf-1d26-4648-8b3c-10348c082070",
   "metadata": {},
   "outputs": [
    {
     "name": "stdout",
     "output_type": "stream",
     "text": [
      "Collecting numpy\n",
      "  Downloading numpy-2.2.3-cp311-cp311-win_amd64.whl.metadata (60 kB)\n",
      "Downloading numpy-2.2.3-cp311-cp311-win_amd64.whl (12.9 MB)\n",
      "   ---------------------------------------- 0.0/12.9 MB ? eta -:--:--\n",
      "    --------------------------------------- 0.3/12.9 MB ? eta -:--:--\n",
      "   - -------------------------------------- 0.5/12.9 MB 1.7 MB/s eta 0:00:08\n",
      "   -- ------------------------------------- 0.8/12.9 MB 1.7 MB/s eta 0:00:08\n",
      "   ---- ----------------------------------- 1.3/12.9 MB 1.7 MB/s eta 0:00:07\n",
      "   ---- ----------------------------------- 1.6/12.9 MB 1.7 MB/s eta 0:00:07\n",
      "   ------ --------------------------------- 2.1/12.9 MB 1.7 MB/s eta 0:00:07\n",
      "   ------- -------------------------------- 2.4/12.9 MB 1.7 MB/s eta 0:00:07\n",
      "   -------- ------------------------------- 2.6/12.9 MB 1.7 MB/s eta 0:00:07\n",
      "   -------- ------------------------------- 2.9/12.9 MB 1.7 MB/s eta 0:00:06\n",
      "   ---------- ----------------------------- 3.4/12.9 MB 1.7 MB/s eta 0:00:06\n",
      "   ----------- ---------------------------- 3.7/12.9 MB 1.7 MB/s eta 0:00:06\n",
      "   ------------ --------------------------- 4.2/12.9 MB 1.7 MB/s eta 0:00:06\n",
      "   ------------- -------------------------- 4.5/12.9 MB 1.7 MB/s eta 0:00:05\n",
      "   -------------- ------------------------- 4.7/12.9 MB 1.7 MB/s eta 0:00:05\n",
      "   --------------- ------------------------ 5.0/12.9 MB 1.7 MB/s eta 0:00:05\n",
      "   ---------------- ----------------------- 5.2/12.9 MB 1.7 MB/s eta 0:00:05\n",
      "   ----------------- ---------------------- 5.5/12.9 MB 1.6 MB/s eta 0:00:05\n",
      "   ----------------- ---------------------- 5.8/12.9 MB 1.6 MB/s eta 0:00:05\n",
      "   ------------------ --------------------- 6.0/12.9 MB 1.6 MB/s eta 0:00:05\n",
      "   ------------------- -------------------- 6.3/12.9 MB 1.6 MB/s eta 0:00:05\n",
      "   -------------------- ------------------- 6.6/12.9 MB 1.5 MB/s eta 0:00:05\n",
      "   --------------------- ------------------ 6.8/12.9 MB 1.5 MB/s eta 0:00:05\n",
      "   --------------------- ------------------ 7.1/12.9 MB 1.5 MB/s eta 0:00:04\n",
      "   ---------------------- ----------------- 7.3/12.9 MB 1.5 MB/s eta 0:00:04\n",
      "   ----------------------- ---------------- 7.6/12.9 MB 1.5 MB/s eta 0:00:04\n",
      "   ------------------------ --------------- 7.9/12.9 MB 1.5 MB/s eta 0:00:04\n",
      "   ------------------------- -------------- 8.1/12.9 MB 1.5 MB/s eta 0:00:04\n",
      "   ------------------------- -------------- 8.4/12.9 MB 1.4 MB/s eta 0:00:04\n",
      "   -------------------------- ------------- 8.7/12.9 MB 1.5 MB/s eta 0:00:03\n",
      "   --------------------------- ------------ 8.9/12.9 MB 1.5 MB/s eta 0:00:03\n",
      "   ----------------------------- ---------- 9.4/12.9 MB 1.5 MB/s eta 0:00:03\n",
      "   ------------------------------ --------- 9.7/12.9 MB 1.5 MB/s eta 0:00:03\n",
      "   ------------------------------- -------- 10.2/12.9 MB 1.5 MB/s eta 0:00:02\n",
      "   -------------------------------- ------- 10.5/12.9 MB 1.5 MB/s eta 0:00:02\n",
      "   --------------------------------- ------ 10.7/12.9 MB 1.5 MB/s eta 0:00:02\n",
      "   ---------------------------------- ----- 11.3/12.9 MB 1.5 MB/s eta 0:00:02\n",
      "   ----------------------------------- ---- 11.5/12.9 MB 1.5 MB/s eta 0:00:01\n",
      "   ------------------------------------ --- 11.8/12.9 MB 1.5 MB/s eta 0:00:01\n",
      "   -------------------------------------- - 12.3/12.9 MB 1.5 MB/s eta 0:00:01\n",
      "   -------------------------------------- - 12.6/12.9 MB 1.5 MB/s eta 0:00:01\n",
      "   ---------------------------------------- 12.9/12.9 MB 1.5 MB/s eta 0:00:00\n",
      "Installing collected packages: numpy\n",
      "Successfully installed numpy-2.2.3\n"
     ]
    }
   ],
   "source": [
    "!pip install numpy"
   ]
  },
  {
   "cell_type": "code",
   "execution_count": 5,
   "id": "f3fae3bf",
   "metadata": {},
   "outputs": [
    {
     "name": "stdout",
     "output_type": "stream",
     "text": [
      "Quotient coefficients: [2. 0. 2.]\n",
      "Remainder: 5\n"
     ]
    }
   ],
   "source": [
    "import numpy as np\n",
    "\n",
    "def synthetic_division(coefficients, divisor):\n",
    "    \"\"\"\n",
    "    Performs synthetic division on a given polynomial.\n",
    "    :param coefficients: List of polynomial coefficients\n",
    "    :param divisor: Value of 'c' in (x - c)\n",
    "    :return: Quotient coefficients and remainder\n",
    "    \"\"\"\n",
    "    n = len(coefficients)\n",
    "    quotient = np.zeros(n - 1)\n",
    "    remainder = coefficients[0]\n",
    "\n",
    "    for i in range(n - 1):\n",
    "        quotient[i] = remainder\n",
    "        remainder = remainder * divisor + coefficients[i + 1]\n",
    "\n",
    "    return quotient, remainder\n",
    "\n",
    "# Coefficients of P(x) = 2x^3 - 6x^2 + 2x - 1\n",
    "coefficients = [2, -6, 2, -1]\n",
    "divisor = 3\n",
    "\n",
    "quotient, remainder = synthetic_division(coefficients, divisor)\n",
    "\n",
    "print(\"Quotient coefficients:\", quotient)\n",
    "print(\"Remainder:\", remainder)\n"
   ]
  },
  {
   "attachments": {},
   "cell_type": "markdown",
   "id": "c99d24e7-a62b-4933-b4fd-23d9a4919ca3",
   "metadata": {},
   "source": [
    "#### Exercise Problem 1\n",
    "\n",
    "Divide $𝑃(𝑥)=3𝑥^2+7𝑥−20$ by $(x + 5)$"
   ]
  },
  {
   "cell_type": "code",
   "execution_count": 6,
   "id": "a26d5523-7c0a-41d2-b738-6e31140ee436",
   "metadata": {},
   "outputs": [
    {
     "name": "stdout",
     "output_type": "stream",
     "text": [
      "Quotient coefficients: [  3.  22. 130.]\n",
      "Remainder: 649\n"
     ]
    }
   ],
   "source": [
    "import numpy as np\n",
    "\n",
    "def synthetic_division(coefficients, divisor):\n",
    "    \"\"\"\n",
    "    Performs synthetic division on a given polynomial.\n",
    "    :param coefficients: List of polynomial coefficients\n",
    "    :param divisor: Value of 'c' in (x - c)\n",
    "    :return: Quotient coefficients and remainder\n",
    "    \"\"\"\n",
    "    n = len(coefficients)\n",
    "    quotient = np.zeros(n - 1)\n",
    "    remainder = coefficients[0]\n",
    "\n",
    "    for i in range(n - 1):\n",
    "        quotient[i] = remainder\n",
    "        remainder = remainder * divisor + coefficients[i + 1]\n",
    "\n",
    "    return quotient, remainder\n",
    "\n",
    "# Coefficients of P(x) = 3x^2 + 7x - 20 - 1\n",
    "coefficients = [3, 7, 20, -1]\n",
    "divisor = 5\n",
    "\n",
    "quotient, remainder = synthetic_division(coefficients, divisor)\n",
    "\n",
    "print(\"Quotient coefficients:\", quotient)\n",
    "print(\"Remainder:\", remainder)"
   ]
  },
  {
   "cell_type": "markdown",
   "id": "5a25f303-69ab-4b78-9135-7fc91af775a4",
   "metadata": {},
   "source": [
    "#### Exercise Problem 2\n",
    "\n",
    "Divide $𝑃(𝑥)=7𝑥^3+6𝑥−8$ by $(x – 4)$"
   ]
  },
  {
   "cell_type": "code",
   "execution_count": 7,
   "id": "b7dc4c28-e0e3-4884-b690-7e40ebe6b763",
   "metadata": {},
   "outputs": [
    {
     "name": "stdout",
     "output_type": "stream",
     "text": [
      "Quotient coefficients: [  7.  34. 144.]\n",
      "Remainder: 575\n"
     ]
    }
   ],
   "source": [
    "import numpy as np\n",
    "\n",
    "def synthetic_division(coefficients, divisor):\n",
    "    \"\"\"\n",
    "    Performs synthetic division on a given polynomial.\n",
    "    :param coefficients: List of polynomial coefficients\n",
    "    :param divisor: Value of 'c' in (x - c)\n",
    "    :return: Quotient coefficients and remainder\n",
    "    \"\"\"\n",
    "    n = len(coefficients)\n",
    "    quotient = np.zeros(n - 1)\n",
    "    remainder = coefficients[0]\n",
    "\n",
    "    for i in range(n - 1):\n",
    "        quotient[i] = remainder\n",
    "        remainder = remainder * divisor + coefficients[i + 1]\n",
    "\n",
    "    return quotient, remainder\n",
    "\n",
    "# Coefficients of P(x) = 7x^3 + 6x - 8 - 1\n",
    "coefficients = [7, 6, 8, -1]\n",
    "divisor = 4\n",
    "\n",
    "quotient, remainder = synthetic_division(coefficients, divisor)\n",
    "\n",
    "print(\"Quotient coefficients:\", quotient)\n",
    "print(\"Remainder:\", remainder)"
   ]
  },
  {
   "cell_type": "markdown",
   "id": "d27fb0e0-7431-41cd-9295-75e305bab7b9",
   "metadata": {},
   "source": [
    "#### Exercise Problem 3\n",
    "\n",
    "Divide $𝑃(𝑥)=3𝑥^4−5𝑥^2+6$ by $(x – 2)$"
   ]
  },
  {
   "cell_type": "code",
   "execution_count": 8,
   "id": "82771416-f60a-42bd-9b1f-dfca340f0ac0",
   "metadata": {},
   "outputs": [
    {
     "name": "stdout",
     "output_type": "stream",
     "text": [
      "Quotient coefficients: [ 3. 11. 28.]\n",
      "Remainder: 55\n"
     ]
    }
   ],
   "source": [
    "import numpy as np\n",
    "\n",
    "def synthetic_division(coefficients, divisor):\n",
    "    \"\"\"\n",
    "    Performs synthetic division on a given polynomial.\n",
    "    :param coefficients: List of polynomial coefficients\n",
    "    :param divisor: Value of 'c' in (x - c)\n",
    "    :return: Quotient coefficients and remainder\n",
    "    \"\"\"\n",
    "    n = len(coefficients)\n",
    "    quotient = np.zeros(n - 1)\n",
    "    remainder = coefficients[0]\n",
    "\n",
    "    for i in range(n - 1):\n",
    "        quotient[i] = remainder\n",
    "        remainder = remainder * divisor + coefficients[i + 1]\n",
    "\n",
    "    return quotient, remainder\n",
    "\n",
    "# Coefficients of P(x) = 3x^4 + 5x^2 + 6 - 1\n",
    "coefficients = [3, 5, 6, -1]\n",
    "divisor = 2\n",
    "\n",
    "quotient, remainder = synthetic_division(coefficients, divisor)\n",
    "\n",
    "print(\"Quotient coefficients:\", quotient)\n",
    "print(\"Remainder:\", remainder)"
   ]
  },
  {
   "cell_type": "markdown",
   "id": "fd019ff7",
   "metadata": {},
   "source": [
    "## Horner’s Scheme\n",
    "Horner's Scheme is an efficient method for evaluating a polynomial at a specific value of \\( x \\). It reduces the number of multiplications needed by expressing the polynomial in nested form."
   ]
  },
  {
   "cell_type": "markdown",
   "id": "2851ea30",
   "metadata": {},
   "source": [
    "### Example of Horner’s Scheme\n",
    "Evaluate $P(x) = 2x^3 - 6x^2 + 2x - 1$ at $(x = 3)$."
   ]
  },
  {
   "cell_type": "code",
   "execution_count": 9,
   "id": "10723669",
   "metadata": {},
   "outputs": [
    {
     "name": "stdout",
     "output_type": "stream",
     "text": [
      "P(3) = 143\n"
     ]
    }
   ],
   "source": [
    "def horner_evaluation(coefficients, x_value):\n",
    "    \"\"\"\n",
    "    Evaluates a polynomial using Horner's method.\n",
    "    :param coefficients: List of polynomial coefficients\n",
    "    :param x_value: Value of x\n",
    "    :return: Evaluated polynomial result\n",
    "    \"\"\"\n",
    "    result = coefficients[0]\n",
    "    for coef in coefficients[1:]:\n",
    "        result = result * x_value + coef\n",
    "\n",
    "    return result\n",
    "\n",
    "# Evaluate P(x) at x = 3\n",
    "x_value = 3\n",
    "result = horner_evaluation(coefficients, x_value)\n",
    "\n",
    "print(\"P(3) =\", result)\n"
   ]
  },
  {
   "cell_type": "markdown",
   "id": "c7e62be6-ad95-40e5-b05a-5a6f86ee4770",
   "metadata": {},
   "source": [
    "#### Exercise Problem 1\n",
    "\n",
    "Evaluate $𝑃(𝑥)=3𝑥^2+7𝑥−20$ at $(x=-5)$"
   ]
  },
  {
   "cell_type": "code",
   "execution_count": 10,
   "id": "4a0b34fb-711c-48dd-ab57-e5a21f8d9e50",
   "metadata": {},
   "outputs": [
    {
     "name": "stdout",
     "output_type": "stream",
     "text": [
      "P(-5) = -281\n"
     ]
    }
   ],
   "source": [
    "def horner_evaluation(coefficients, x_value):\n",
    "    \"\"\"\n",
    "    Evaluates a polynomial using Horner's method.\n",
    "    :param coefficients: List of polynomial coefficients\n",
    "    :param x_value: Value of x\n",
    "    :return: Evaluated polynomial result\n",
    "    \"\"\"\n",
    "    result = coefficients[0]\n",
    "    for coef in coefficients[1:]:\n",
    "        result = result * x_value + coef\n",
    "\n",
    "    return result\n",
    "\n",
    "# Evaluate P(x) at x = -5\n",
    "x_value = -5\n",
    "result = horner_evaluation(coefficients, x_value)\n",
    "\n",
    "print(\"P(-5) =\", result)"
   ]
  },
  {
   "cell_type": "markdown",
   "id": "72aa1a46-99c7-4206-a539-d725edb86873",
   "metadata": {},
   "source": [
    "#### Exercise Problem 2\n",
    "\n",
    "Evaluate $𝑃(𝑥)=7𝑥^3+6𝑥−8$ at $(x=4)$"
   ]
  },
  {
   "cell_type": "code",
   "execution_count": 11,
   "id": "1eca0522-fe0a-4ffc-a57e-0cfdae63c79d",
   "metadata": {},
   "outputs": [
    {
     "name": "stdout",
     "output_type": "stream",
     "text": [
      "P(4) = 295\n"
     ]
    }
   ],
   "source": [
    "def horner_evaluation(coefficients, x_value):\n",
    "    \"\"\"\n",
    "    Evaluates a polynomial using Horner's method.\n",
    "    :param coefficients: List of polynomial coefficients\n",
    "    :param x_value: Value of x\n",
    "    :return: Evaluated polynomial result\n",
    "    \"\"\"\n",
    "    result = coefficients[0]\n",
    "    for coef in coefficients[1:]:\n",
    "        result = result * x_value + coef\n",
    "\n",
    "    return result\n",
    "\n",
    "# Evaluate P(x) at x = 4\n",
    "x_value = 4\n",
    "result = horner_evaluation(coefficients, x_value)\n",
    "\n",
    "print(\"P(4) =\", result)\n"
   ]
  },
  {
   "cell_type": "markdown",
   "id": "ad4340c1-3256-4de7-a2d3-3cb341938318",
   "metadata": {},
   "source": [
    "#### Exercise Problem 3\n",
    "\n",
    "Evaluate $𝑃(𝑥)=3𝑥^4−5𝑥^2+6$ at $(x=2)$"
   ]
  },
  {
   "cell_type": "code",
   "execution_count": 12,
   "id": "c36f6300-539b-4362-9098-b15be26dedec",
   "metadata": {},
   "outputs": [
    {
     "name": "stdout",
     "output_type": "stream",
     "text": [
      "P(2) = 55\n"
     ]
    }
   ],
   "source": [
    "def horner_evaluation(coefficients, x_value):\n",
    "    \"\"\"\n",
    "    Evaluates a polynomial using Horner's method.\n",
    "    :param coefficients: List of polynomial coefficients\n",
    "    :param x_value: Value of x\n",
    "    :return: Evaluated polynomial result\n",
    "    \"\"\"\n",
    "    result = coefficients[0]\n",
    "    for coef in coefficients[1:]:\n",
    "        result = result * x_value + coef\n",
    "\n",
    "    return result\n",
    "\n",
    "# Evaluate P(x) at x = 2\n",
    "x_value = 2\n",
    "result = horner_evaluation(coefficients, x_value)\n",
    "\n",
    "print(\"P(2) =\", result)"
   ]
  },
  {
   "cell_type": "markdown",
   "id": "96e32de7",
   "metadata": {},
   "source": [
    "## Conclusion\n",
    "- **Synthetic Division** provides a quick way to divide a polynomial by \\( x - c \\).\n",
    "- **Horner’s Scheme** simplifies polynomial evaluation by reducing operations.\n",
    "These methods are essential for computational efficiency in numerical methods."
   ]
  }
 ],
 "metadata": {
  "kernelspec": {
   "display_name": "Python 3 (ipykernel)",
   "language": "python",
   "name": "python3"
  },
  "language_info": {
   "codemirror_mode": {
    "name": "ipython",
    "version": 3
   },
   "file_extension": ".py",
   "mimetype": "text/x-python",
   "name": "python",
   "nbconvert_exporter": "python",
   "pygments_lexer": "ipython3",
   "version": "3.11.11"
  }
 },
 "nbformat": 4,
 "nbformat_minor": 5
}
